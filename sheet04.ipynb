{
 "cells": [
  {
   "cell_type": "markdown",
   "metadata": {},
   "source": [
    "Osnabrück University - A&C: Computational Cognition (Summer Term 2019)"
   ]
  },
  {
   "cell_type": "markdown",
   "metadata": {},
   "source": [
    "# Exercise Sheet 04: Analysis of behavioural data (part 2)"
   ]
  },
  {
   "cell_type": "markdown",
   "metadata": {},
   "source": [
    "## Introduction\n",
    "\n",
    "This week's sheet should be solved and handed in at 14:00 at **Tuesday, May 14, 2019**. If you need help (and Google and other resources were not enough), feel free to contact your tutors. Please push your results to your Github group folder.\n",
    "\n",
    "In this exercise sheet we will have a closer look on the data of Seahaven using analysing techniques like ANOVA, linear regression models and t-tests. For the correct results we will provide you with the finalized data that you only have to read in. Note that especially the data for assignment 2 and 3 underwent some further preprocesing than what we did in the previous exercise."
   ]
  },
  {
   "cell_type": "markdown",
   "metadata": {},
   "source": [
    "## Assignment 0: Peer review for sheet 03 [3 pts]"
   ]
  },
  {
   "cell_type": "markdown",
   "metadata": {},
   "source": [
    "Open an issue in the repository of the groups you have to check. The title of the issue should be your group name (e.g. \"Group1). Comment on what was good and what was bad, the aesthetics and ease of reading the plots, what you would have done differently and how many points you would give them for their solutions.\n",
    "\n",
    "| * |Group 1|Group 2|Group 3|Group 4|Group 5|Group 6|Group 7|Group 8|Group 9|Group 10|Group 11|\n",
    "| ------- | ----- | ----- | ----- | ----- | ----- | ----- | ----- | ----- | ----- | ------ | ------ |\n",
    "| check solutions of group: | 6, 2 | 10, 7  | 1, 6  | 8, 9 | 7, 1 | 9, 8 | 3, 10  | 5, 11  | 4, 3  | 11, 5 | 2, 4  |\n",
    "\n",
    "Please also evaluate nice coding style with up to two points."
   ]
  },
  {
   "cell_type": "code",
   "execution_count": 1,
   "metadata": {},
   "outputs": [],
   "source": [
    "import os\n",
    "import numpy as np\n",
    "import pandas as pd\n",
    "import matplotlib.pyplot as plt\n",
    "import ptitprince as pt\n",
    "import seaborn as sns\n",
    "sns.set()\n",
    "from PIL import Image\n",
    "from scipy import stats\n",
    "from statsmodels.stats.anova import AnovaRM\n",
    "from statsmodels.stats.api import anova_lm\n",
    "from statsmodels.formula.api import ols"
   ]
  },
  {
   "cell_type": "markdown",
   "metadata": {},
   "source": [
    "## Assignment 1: Linear Regression Model Based on Performance and Reaction Time [2 pts]"
   ]
  },
  {
   "cell_type": "markdown",
   "metadata": {},
   "source": [
    "Although the linear regression in the prior exercise sheet (assignment 2.a) does not suggest a relationship between RT and performance (accuracy) for the relative task, we still want to check how much of the performance is explained by the RT. To do so we fit a linear regression model by using the ```ols``` method in the ```statsmodels``` library for both of the time conditions (3sec and Infinite).\n",
    "\n",
    "- Read ```AllData.csv``` into the dataframe ```AllData``` and take only the data of the relative task. \n",
    "- Split the data of the relative task: Create ```SecData``` with the data of the 3sec-condition and ```InfData``` with the data of the Infinite-condition.\n",
    "- For each dataset (SecData, InfData) use the ```statsmodels```’ ```ols``` function to initialise a simple linear regression model. <br> The ```ols``` function takes the following: **ols(\"y ~ X\", df)**, where X is the predictor variable (\"ReactionTime\"), y is the output variable (\"Performance\") and df is the dataframe of the used data.\n",
    "- Have a look on the R-squared values and interpret them.\n",
    "\n",
    "Take a look at the [ols documentation](https://www.statsmodels.org/stable/index.html) and the [patsy documentation](https://patsy.readthedocs.io/en/v0.1.0/formulas.html) to get a feeling how to use the function."
   ]
  },
  {
   "cell_type": "code",
   "execution_count": 2,
   "metadata": {},
   "outputs": [
    {
     "name": "stdout",
     "output_type": "stream",
     "text": [
      "The results of the OLS regression for the infinite-condition:\n",
      "\n",
      "                            OLS Regression Results                            \n",
      "==============================================================================\n",
      "Dep. Variable:            Performance   R-squared:                       0.042\n",
      "Model:                            OLS   Adj. R-squared:                  0.032\n",
      "Method:                 Least Squares   F-statistic:                     4.195\n",
      "Date:                Thu, 23 May 2019   Prob (F-statistic):             0.0433\n",
      "Time:                        14:08:16   Log-Likelihood:                 78.822\n",
      "No. Observations:                  97   AIC:                            -153.6\n",
      "Df Residuals:                      95   BIC:                            -148.5\n",
      "Df Model:                           1                                         \n",
      "Covariance Type:            nonrobust                                         \n",
      "================================================================================\n",
      "                   coef    std err          t      P>|t|      [0.025      0.975]\n",
      "--------------------------------------------------------------------------------\n",
      "Intercept        0.4099      0.065      6.330      0.000       0.281       0.538\n",
      "ReactionTime     0.0750      0.037      2.048      0.043       0.002       0.148\n",
      "==============================================================================\n",
      "Omnibus:                        5.909   Durbin-Watson:                   2.092\n",
      "Prob(Omnibus):                  0.052   Jarque-Bera (JB):                5.938\n",
      "Skew:                           0.604   Prob(JB):                       0.0513\n",
      "Kurtosis:                       2.900   Cond. No.                         13.6\n",
      "==============================================================================\n",
      "\n",
      "Warnings:\n",
      "[1] Standard Errors assume that the covariance matrix of the errors is correctly specified.\n",
      "\n",
      "\n",
      "\n",
      "The results of the OLS regression for the infinite-condition:\n",
      "\n",
      "                            OLS Regression Results                            \n",
      "==============================================================================\n",
      "Dep. Variable:            Performance   R-squared:                       0.118\n",
      "Model:                            OLS   Adj. R-squared:                  0.109\n",
      "Method:                 Least Squares   F-statistic:                     12.72\n",
      "Date:                Thu, 23 May 2019   Prob (F-statistic):           0.000568\n",
      "Time:                        14:08:16   Log-Likelihood:                 86.422\n",
      "No. Observations:                  97   AIC:                            -168.8\n",
      "Df Residuals:                      95   BIC:                            -163.7\n",
      "Df Model:                           1                                         \n",
      "Covariance Type:            nonrobust                                         \n",
      "================================================================================\n",
      "                   coef    std err          t      P>|t|      [0.025      0.975]\n",
      "--------------------------------------------------------------------------------\n",
      "Intercept        0.4826      0.025     19.197      0.000       0.433       0.533\n",
      "ReactionTime     0.0228      0.006      3.567      0.001       0.010       0.035\n",
      "==============================================================================\n",
      "Omnibus:                        3.385   Durbin-Watson:                   2.165\n",
      "Prob(Omnibus):                  0.184   Jarque-Bera (JB):                2.764\n",
      "Skew:                           0.390   Prob(JB):                        0.251\n",
      "Kurtosis:                       3.275   Cond. No.                         10.2\n",
      "==============================================================================\n",
      "\n",
      "Warnings:\n",
      "[1] Standard Errors assume that the covariance matrix of the errors is correctly specified.\n"
     ]
    }
   ],
   "source": [
    "# read the csv file into a dataframe\n",
    "AllData = pd.read_csv('Data/AllData.csv')\n",
    "\n",
    "# filter out data for tasks other than the 'Relative' task\n",
    "AllData = AllData[AllData['Task'] == 'Relative']\n",
    "\n",
    "# split the data into the 3-sec and infinite time conditions\n",
    "SecData = AllData[AllData['Time'] == '3sec']\n",
    "InfData = AllData[AllData['Time'] == 'Infinite']\n",
    "\n",
    "# run an OLS regression analysis for the 3-sec time condition and print the results\n",
    "sec_results = ols('Performance ~ ReactionTime', SecData).fit()\n",
    "print('The results of the OLS regression for the infinite-condition:\\n')\n",
    "print(sec_results.summary())\n",
    "\n",
    "# run an OLS regression analysis for the infinite time condition and print the results\n",
    "inf_results = ols('Performance ~ ReactionTime', InfData).fit()\n",
    "print('\\n\\n\\nThe results of the OLS regression for the infinite-condition:\\n')\n",
    "print(inf_results.summary())\n"
   ]
  },
  {
   "cell_type": "markdown",
   "metadata": {},
   "source": [
    "### On R-Squared Values"
   ]
  },
  {
   "cell_type": "markdown",
   "metadata": {},
   "source": [
    "**R-squared is the percentage of data samples explained by the regression line, to the rest of data samples. So it varies between 0 and 100% and the higher the percentage, the better the regression line is explaining our data spread.**\n",
    "**Regarding that, both results are poorly explaining the modelled regression lines, though it is a bit better in case of infinite condition (about 12% to 4% for 3-sec time condition).**\n",
    "**That means there is no meaningful relationship between the reaction time and performance.**"
   ]
  },
  {
   "cell_type": "markdown",
   "metadata": {},
   "source": [
    "****"
   ]
  },
  {
   "cell_type": "markdown",
   "metadata": {},
   "source": [
    "## Assignment 2: Testing Task Performance via ANOVA [5 pts]"
   ]
  },
  {
   "cell_type": "markdown",
   "metadata": {},
   "source": [
    "For this assignment we will have a look on the whole data without caring about the different measurements."
   ]
  },
  {
   "cell_type": "markdown",
   "metadata": {},
   "source": [
    "### a) Task Performance [2 pts]"
   ]
  },
  {
   "cell_type": "markdown",
   "metadata": {},
   "source": [
    "Refering to our plots of the prior exercise sheet (assignment 2.b), it is a good idea to have a closer look on the task performance (accuracy) to check if there are some **significant effects, i.e. p < 0.05**. To do so we will first of all visualize the data with a raincloud-plot using ```ptitprince.RainCloud``` as a density estimate and then calculate the ANOVAs. Make sure to run ```pip install ptitprince``` in your activated acc environment beforehand.\n",
    "\n",
    "- Read ```MapPerformances.csv``` into the dataframe ```AllPerformances```.\n",
    "- Make a RainCloud-plot of the tasks (x-axis) and performance (y-axis) for both time conditions (3sec / Infinite). The y-axis should start at 0.25 and end at 0.75.\n",
    "- Have a look at ```help(pt.RainCloud)``` to get an overview of the different parameters that you can modify to create a nice raincloud-plot."
   ]
  },
  {
   "cell_type": "code",
   "execution_count": 3,
   "metadata": {},
   "outputs": [
    {
     "data": {
      "image/png": "[encoded data removed]",
      "text/plain": [
       "<Figure size 1080x648 with 1 Axes>"
      ]
     },
     "metadata": {},
     "output_type": "display_data"
    }
   ],
   "source": [
    "# read the csv file into a dataframe\n",
    "AllPerformances = pd.read_csv('Data/MapPerformances.csv')\n",
    "\n",
    "# plot RainCloud\n",
    "fig = pt.RainCloud(x='Task', y='Performance', hue='Time', data=AllPerformances,\n",
    "                   move=.15, dodge=True, alpha=.8, offset=.1, palette = ['gold', 'blueviolet'],\n",
    "                   width_viol =0.35, scale='area', figsize=(15,9))\n",
    "\n",
    "# set plot title and other stuff\n",
    "fig.set_title('Raincloud Plot of the Performance for Different Tasks and Time Conditions', fontsize=20)\n",
    "fig.set_ylabel('Accuracy [%]', fontsize=16)\n",
    "fig.set_xlabel('Tasks', fontsize=16)\n",
    "fig.set_yticks(np.arange(0.25, .76, step=0.25));"
   ]
  },
  {
   "cell_type": "markdown",
   "metadata": {},
   "source": [
    "Using the data of ```AllPerformances``` we now want to calculate a **two-way ANOVA**. A two-way ANOVA is a statistical test used to determine the effect of two nominal predictor variables (= independent variables) on a continuous outcome variable (= dependent variable).\n",
    "\n",
    "H$_{01}$ = The performance is the same for the different tasks. <br>\n",
    "H$_{02}$ = The performance is the same for the different time conditions. <br>\n",
    "H$_{03}$ = An interaction effect does not exist.\n",
    "\n",
    "- Given the null hypotheses above, what is the outcome variable and what are the predictor variables that you have to use for the two-way ANOVA?\n",
    "- Use ```statsmodels```’ ```ols``` function to create an ordinary least squares model as a precursor to the ANOVA. <br> The ```ols``` function takes the following: **ols(\"y ~ C(X1) * C(X2)\", df)**, where X1 and X2 are the predictor variables, y is the output variable and df is the dataframe of the used data.\n",
    "- With the result of the ols calculate a **type 2** two-way ANOVA using ```statsmodels```’ ```anova_lm```.\n",
    "- Based on the ANOVA table explain which of the null hypotheses can be rejected. What does this outcome tell you?\n",
    "\n",
    "Take a look at the [ols documentation](https://www.statsmodels.org/stable/index.html), the [patsy documentation](https://patsy.readthedocs.io/en/v0.1.0/formulas.html) and the [anova_lm documentation](http://www.statsmodels.org/dev/anova.html) to get a feeling how to use these functions."
   ]
  },
  {
   "cell_type": "markdown",
   "metadata": {},
   "source": [
    "### The Outcome and the Predictor Variables"
   ]
  },
  {
   "cell_type": "markdown",
   "metadata": {},
   "source": [
    "**All these hypotheses are discussing effects of different variables on the performance, so the outcome variable is 'Performance' or the accuracy of respondents in accomplishing the tasks.**\n",
    "**And the predictor variables would be the (differences between) tasks, and the (differences between) the time conditions**"
   ]
  },
  {
   "cell_type": "code",
   "execution_count": 4,
   "metadata": {},
   "outputs": [
    {
     "name": "stdout",
     "output_type": "stream",
     "text": [
      "The results of the OLS model between performance and task/time:\n",
      "\n",
      "                            OLS Regression Results                            \n",
      "==============================================================================\n",
      "Dep. Variable:            Performance   R-squared:                       0.062\n",
      "Model:                            OLS   Adj. R-squared:                  0.049\n",
      "Method:                 Least Squares   F-statistic:                     4.969\n",
      "Date:                Thu, 23 May 2019   Prob (F-statistic):           0.000203\n",
      "Time:                        14:08:17   Log-Likelihood:                 389.12\n",
      "No. Observations:                 384   AIC:                            -766.2\n",
      "Df Residuals:                     378   BIC:                            -742.5\n",
      "Df Model:                           5                                         \n",
      "Covariance Type:            nonrobust                                         \n",
      "=====================================================================================================\n",
      "                                        coef    std err          t      P>|t|      [0.025      0.975]\n",
      "-----------------------------------------------------------------------------------------------------\n",
      "Intercept                             0.4918      0.011     44.437      0.000       0.470       0.514\n",
      "Task[T.Pointing]                     -0.0043      0.016     -0.277      0.782      -0.035       0.026\n",
      "Task[T.Relative]                     -0.0013      0.016     -0.083      0.934      -0.032       0.029\n",
      "Time[T.Infinite]                      0.0152      0.016      0.971      0.332      -0.016       0.046\n",
      "Task[T.Pointing]:Time[T.Infinite]     0.0343      0.022      1.549      0.122      -0.009       0.078\n",
      "Task[T.Relative]:Time[T.Infinite]     0.0373      0.022      1.686      0.093      -0.006       0.081\n",
      "==============================================================================\n",
      "Omnibus:                        0.562   Durbin-Watson:                   2.056\n",
      "Prob(Omnibus):                  0.755   Jarque-Bera (JB):                0.417\n",
      "Skew:                          -0.072   Prob(JB):                        0.812\n",
      "Kurtosis:                       3.073   Cond. No.                         9.77\n",
      "==============================================================================\n",
      "\n",
      "Warnings:\n",
      "[1] Standard Errors assume that the covariance matrix of the errors is correctly specified.\n",
      "\n",
      "\n",
      "\n",
      "The results of two-way ANOVA for the OLS results:\n",
      "\n",
      "             sum_sq     df          F    PR(>F)\n",
      "Task       0.020741    2.0   1.323139  0.267528\n",
      "Time       0.146484    1.0  18.689569  0.000020\n",
      "Task:Time  0.027500    2.0   1.754358  0.174424\n",
      "Residual   2.962674  378.0        NaN       NaN\n"
     ]
    }
   ],
   "source": [
    "# create an OLS model for the independent and dependant variables\n",
    "results = ols('Performance ~ Task * Time', AllPerformances).fit()\n",
    "\n",
    "# and print the results\n",
    "print('The results of the OLS model between performance and task/time:\\n')\n",
    "print(results.summary())\n",
    "\n",
    "\n",
    "# run a two-way ANOVA calculation with the OLS results\n",
    "table = anova_lm(results, typ=2)\n",
    "\n",
    "# and print the results\n",
    "print('\\n\\n\\nThe results of two-way ANOVA for the OLS results:\\n')\n",
    "print(table)"
   ]
  },
  {
   "cell_type": "markdown",
   "metadata": {},
   "source": [
    "### Two-Way ANOVA Results"
   ]
  },
  {
   "cell_type": "markdown",
   "metadata": {},
   "source": [
    "**Regarding our significance level (p < 0.05), there is no significant difference between the performance of the participants in different tasks. But a P-value such 0.000020 would reassures us about the meaningfulness of the performance/accuracy difference between the two time condition. That is, the time condition affects the accuracy. Though we could not conclude that if the P-value of the two independent (predictor) variables were significant. But here the P-value of their interaction is 0.174424, and greater than our significance level, so that makes us sure about our conclusion on the relation between the time condition and performance.**"
   ]
  },
  {
   "cell_type": "markdown",
   "metadata": {},
   "source": [
    "****"
   ]
  },
  {
   "cell_type": "markdown",
   "metadata": {},
   "source": [
    "### b) Task Performance: 3sec Condition vs. Infinite Condition [3 pts]"
   ]
  },
  {
   "cell_type": "markdown",
   "metadata": {},
   "source": [
    "Let's take a closer look onto the single time conditions by calculating a **one-way ANOVA** for each time condition (3sec and Infinite). A one-way ANOVA is a statistical test used to determine the effect of one nominal predictor variable (= independent variable) on a continuous outcome variable (= dependent variable). \n",
    "\n",
    "H$_{01}$ = The performance is the same for the different tasks. <br>\n",
    "\n",
    "- Use the data of ```AllPerformances``` and split it: Create ```SecPerformances``` with the data of the 3sec-condition and ```InfPerformances``` with the data of the Infinite-condition.\n",
    "- Given the null hypothesis above, what is the outcome variable and what is the predictor variable that you have to use for the one-way ANOVAs?\n",
    "\n",
    "Do for each dataset (SecPerformances, InfPerformances):\n",
    "\n",
    "- Use ```statsmodels```’ ```ols``` function to create an ordinary least squares model as a precursor to the ANOVA. The ```ols``` function takes the formula <br> The ```ols``` function takes the following: **ols(\"y ~ C(X)\", df)**, where X is the predictor variable, y is the output variable and df is the dataframe of the used data.\n",
    "- With the result of the ols calculate a **type 1** one-way ANOVA using ```statsmodels```’ ```anova_lm```.\n",
    "- Based on the ANOVA table explain if the null hypothesis can be rejected. What does this outcome tell you?\n",
    "\n",
    "Take a look at the [ols documentation](https://www.statsmodels.org/stable/index.html) and the [patsy documentation](https://patsy.readthedocs.io/en/v0.1.0/formulas.html) to get a feeling how to use this function."
   ]
  },
  {
   "cell_type": "code",
   "execution_count": 5,
   "metadata": {},
   "outputs": [],
   "source": [
    "# split all performance data into two dataframes based on their time conditions\n",
    "SecPerformances = AllPerformances[AllPerformances['Time'] == '3sec']\n",
    "InfPerformances = AllPerformances[AllPerformances['Time'] == 'Infinite']\n"
   ]
  },
  {
   "cell_type": "markdown",
   "metadata": {},
   "source": [
    "### The Outcome and the Predictor Variables"
   ]
  },
  {
   "cell_type": "markdown",
   "metadata": {},
   "source": [
    "**The outcome variable, again, is the performance or accuracy of participants in accomplishing the tasks. And the predictor variable, here is the (difference between) tasks.**"
   ]
  },
  {
   "cell_type": "code",
   "execution_count": 6,
   "metadata": {},
   "outputs": [
    {
     "name": "stdout",
     "output_type": "stream",
     "text": [
      "The results of the OLS model between performance and task in 3-sec time condition:\n",
      "\n",
      "                            OLS Regression Results                            \n",
      "==============================================================================\n",
      "Dep. Variable:            Performance   R-squared:                       0.062\n",
      "Model:                            OLS   Adj. R-squared:                  0.049\n",
      "Method:                 Least Squares   F-statistic:                     4.969\n",
      "Date:                Thu, 23 May 2019   Prob (F-statistic):           0.000203\n",
      "Time:                        14:08:17   Log-Likelihood:                 389.12\n",
      "No. Observations:                 384   AIC:                            -766.2\n",
      "Df Residuals:                     378   BIC:                            -742.5\n",
      "Df Model:                           5                                         \n",
      "Covariance Type:            nonrobust                                         \n",
      "=====================================================================================================\n",
      "                                        coef    std err          t      P>|t|      [0.025      0.975]\n",
      "-----------------------------------------------------------------------------------------------------\n",
      "Intercept                             0.4918      0.011     44.437      0.000       0.470       0.514\n",
      "Task[T.Pointing]                     -0.0043      0.016     -0.277      0.782      -0.035       0.026\n",
      "Task[T.Relative]                     -0.0013      0.016     -0.083      0.934      -0.032       0.029\n",
      "Time[T.Infinite]                      0.0152      0.016      0.971      0.332      -0.016       0.046\n",
      "Task[T.Pointing]:Time[T.Infinite]     0.0343      0.022      1.549      0.122      -0.009       0.078\n",
      "Task[T.Relative]:Time[T.Infinite]     0.0373      0.022      1.686      0.093      -0.006       0.081\n",
      "==============================================================================\n",
      "Omnibus:                        0.562   Durbin-Watson:                   2.056\n",
      "Prob(Omnibus):                  0.755   Jarque-Bera (JB):                0.417\n",
      "Skew:                          -0.072   Prob(JB):                        0.812\n",
      "Kurtosis:                       3.073   Cond. No.                         9.77\n",
      "==============================================================================\n",
      "\n",
      "Warnings:\n",
      "[1] Standard Errors assume that the covariance matrix of the errors is correctly specified.\n",
      "\n",
      "\n",
      "The results of one-way ANOVA for the OLS results:\n",
      "\n",
      "             df    sum_sq   mean_sq         F    PR(>F)\n",
      "Task        2.0  0.000635  0.000317  0.039362  0.961411\n",
      "Residual  189.0  1.524426  0.008066       NaN       NaN\n",
      "\n",
      "\n",
      "\n",
      "-----------------------------------------------------------------------------------\n",
      "\n",
      "\n",
      "\n",
      "The results of the OLS model between performance and task in infinite time condition:\n",
      "\n",
      "                            OLS Regression Results                            \n",
      "==============================================================================\n",
      "Dep. Variable:            Performance   R-squared:                       0.062\n",
      "Model:                            OLS   Adj. R-squared:                  0.049\n",
      "Method:                 Least Squares   F-statistic:                     4.969\n",
      "Date:                Thu, 23 May 2019   Prob (F-statistic):           0.000203\n",
      "Time:                        14:08:17   Log-Likelihood:                 389.12\n",
      "No. Observations:                 384   AIC:                            -766.2\n",
      "Df Residuals:                     378   BIC:                            -742.5\n",
      "Df Model:                           5                                         \n",
      "Covariance Type:            nonrobust                                         \n",
      "=====================================================================================================\n",
      "                                        coef    std err          t      P>|t|      [0.025      0.975]\n",
      "-----------------------------------------------------------------------------------------------------\n",
      "Intercept                             0.4918      0.011     44.437      0.000       0.470       0.514\n",
      "Task[T.Pointing]                     -0.0043      0.016     -0.277      0.782      -0.035       0.026\n",
      "Task[T.Relative]                     -0.0013      0.016     -0.083      0.934      -0.032       0.029\n",
      "Time[T.Infinite]                      0.0152      0.016      0.971      0.332      -0.016       0.046\n",
      "Task[T.Pointing]:Time[T.Infinite]     0.0343      0.022      1.549      0.122      -0.009       0.078\n",
      "Task[T.Relative]:Time[T.Infinite]     0.0373      0.022      1.686      0.093      -0.006       0.081\n",
      "==============================================================================\n",
      "Omnibus:                        0.562   Durbin-Watson:                   2.056\n",
      "Prob(Omnibus):                  0.755   Jarque-Bera (JB):                0.417\n",
      "Skew:                          -0.072   Prob(JB):                        0.812\n",
      "Kurtosis:                       3.073   Cond. No.                         9.77\n",
      "==============================================================================\n",
      "\n",
      "Warnings:\n",
      "[1] Standard Errors assume that the covariance matrix of the errors is correctly specified.\n",
      "\n",
      "\n",
      "The results of one-way ANOVA for the OLS results:\n",
      "\n",
      "             df    sum_sq   mean_sq         F    PR(>F)\n",
      "Task        2.0  0.047606  0.023803  3.127978  0.046082\n",
      "Residual  189.0  1.438247  0.007610       NaN       NaN\n"
     ]
    }
   ],
   "source": [
    "# ------------------------------------------------------------\n",
    "# Testing SecPerformances Dataset\n",
    "# ------------------------------------------------------------\n",
    "\n",
    "# create an OLS model between tasks and performance\n",
    "sec_results_pre_ANOVA = ols('Performance ~ Task', data=SecPerformances).fit()\n",
    "\n",
    "# and print the results\n",
    "print('The results of the OLS model between performance and task in 3-sec time condition:\\n')\n",
    "print(results.summary())\n",
    "\n",
    "# use the OLS results to calculate a one-way ANOVA\n",
    "table = anova_lm(sec_results_pre_ANOVA, typ=1)\n",
    "\n",
    "# and print the results\n",
    "print('\\n\\nThe results of one-way ANOVA for the OLS results:\\n')\n",
    "print(table)\n",
    "\n",
    "print('\\n\\n\\n-----------------------------------------------------------------------------------\\n\\n\\n')\n",
    "# ------------------------------------------------------------\n",
    "# Testing InfPerformances Dataset\n",
    "# ------------------------------------------------------------\n",
    "\n",
    "# create an OLS model between tasks and performance\n",
    "inf_results_pre_ANOVA = ols('Performance ~ Task', data=InfPerformances).fit()\n",
    "\n",
    "# and print the results\n",
    "print('The results of the OLS model between performance and task in infinite time condition:\\n')\n",
    "print(results.summary())\n",
    "\n",
    "# use the OLS results to calculate a one-way ANOVA\n",
    "table = anova_lm(inf_results_pre_ANOVA, typ=1)\n",
    "\n",
    "# and print the results\n",
    "print('\\n\\nThe results of one-way ANOVA for the OLS results:\\n')\n",
    "print(table)\n",
    "\n"
   ]
  },
  {
   "cell_type": "markdown",
   "metadata": {},
   "source": [
    "### One-Way ANOVA Results"
   ]
  },
  {
   "cell_type": "markdown",
   "metadata": {},
   "source": [
    "**Regarding our significance level (p < 0.05), there is obviously no significant difference between the performance of the participants in different tasks under 3-sec time condition. But the P-value for the time condition of infinite time is significant. That is we reject the null hypothesis for the time condition 'infinite' but not the time condition '3-sec.'**"
   ]
  },
  {
   "cell_type": "markdown",
   "metadata": {},
   "source": [
    "****"
   ]
  },
  {
   "cell_type": "markdown",
   "metadata": {},
   "source": [
    "If there is a significant outcome for one of the datasets (SecPerformances or InfPerformances), make a post-hoc paired t-test using this dataset.\n",
    "\n",
    "- Extract the performances for each task (Absolute, Relative, Pointing).\n",
    "- Compare the performances of the different tasks pairwise using ```scipy.stats.ttest_rel```\n",
    "- Why do we need to do further post-hoc tests and what do they tell us?"
   ]
  },
  {
   "cell_type": "code",
   "execution_count": 7,
   "metadata": {},
   "outputs": [
    {
     "name": "stdout",
     "output_type": "stream",
     "text": [
      "The results of post-hoc paired t-tests:\n",
      "\n",
      "Absolute - Relative: Ttest_relResult(statistic=-2.549420177654396, pvalue=0.013236758937606112)\n",
      "Absolute - Pointing: Ttest_relResult(statistic=-1.8697272275281769, pvalue=0.06617015143684292)\n",
      "Relative - Pointing: Ttest_relResult(statistic=0.38334190525937933, pvalue=0.702756818654483)\n"
     ]
    }
   ],
   "source": [
    "# extract the performances for each task\n",
    "AbsPerformances = InfPerformances[InfPerformances['Task'] == 'Absolute']['Performance']\n",
    "RelPerformances = InfPerformances[InfPerformances['Task'] == 'Relative']['Performance']\n",
    "PoiPerformances = InfPerformances[InfPerformances['Task'] == 'Pointing']['Performance']\n",
    "\n",
    "# print the results of t-tests\n",
    "print('The results of post-hoc paired t-tests:\\n')\n",
    "print('Absolute - Relative: '+str(stats.ttest_rel(AbsPerformances, RelPerformances)))\n",
    "print('Absolute - Pointing: '+str(stats.ttest_rel(AbsPerformances, PoiPerformances)))\n",
    "print('Relative - Pointing: '+str(stats.ttest_rel(RelPerformances, PoiPerformances)))"
   ]
  },
  {
   "cell_type": "markdown",
   "metadata": {},
   "source": [
    "### On the Necessity of a Post-Hoc T-Test"
   ]
  },
  {
   "cell_type": "markdown",
   "metadata": {},
   "source": [
    "**With the ANOVA we found out that there is a significant difference between the performance of participants in different tasks, under the infinite time conditions. But since we have more than two tasks to compare, with a pair-wise t-test we can check and find where and between which two tasks this significant difference is observable.\n",
    "And the results show that the only significant difference is between the 'Absolute' and the 'Relative' tasks.**"
   ]
  },
  {
   "cell_type": "markdown",
   "metadata": {},
   "source": [
    "****"
   ]
  },
  {
   "cell_type": "markdown",
   "metadata": {},
   "source": [
    "## Assignment 3: Testing Task Performance via Repeated Measures ANOVA [3 pts]"
   ]
  },
  {
   "cell_type": "markdown",
   "metadata": {},
   "source": [
    "Now we want to take a closer look on the task performance (accuracy) also taking the different measurements into account to check if there are some **significant effects, i.e. p < 0.05**. For this purpose we have the averaged performances over 15 repeated measure subjects for three measurements. We will first of all visualize the averaged performances for each task for the three measurements with a catplot and then calculate a repeated measures ANOVA. \n",
    "\n",
    "- Read ```RepeatedPerformances.csv``` into the dataframe ```RepeatedPerformances```.\n",
    "- Make a catplot (kind='barplot') of the conditions (x-axis) and the performance (y-axis). The y-axis should start at 0 and end at 0.75.\n",
    "- Please note that the conditions in the dataframe correspond to the given \"conditions\" list."
   ]
  },
  {
   "cell_type": "code",
   "execution_count": 12,
   "metadata": {},
   "outputs": [
    {
     "data": {
      "image/png": "[encoded data removed]",
      "text/plain": [
       "<Figure size 1121.17x504 with 1 Axes>"
      ]
     },
     "metadata": {},
     "output_type": "display_data"
    }
   ],
   "source": [
    "conditions = ['Absolute - 3sec ','Absolute - Infinite','Relative - 3sec ',\n",
    "              'Relative - Infinite','Pointing 3sec','Pointing - Infinite']\n",
    "\n",
    "# read the csv file into a dataframe\n",
    "RepeatedPerformances = pd.read_csv('Data/RepeatedPerformances.csv')\n",
    "\n",
    "# plot the data\n",
    "g = sns.catplot(x='Condition', y='Performance', hue='Measurement', data=RepeatedPerformances,\n",
    "                  kind='bar', height=7, aspect=2, palette=['cornflowerblue', 'darkturquoise','deepskyblue'])\n",
    "\n",
    "# set plot title and other stuff\n",
    "g.set(title='Average Performance in Each Task for Three Measurements', yticks=np.arange(0, .76, step=0.25),\n",
    "      ylabel='Accuracy [%]')\n",
    "g.set_xticklabels(conditions, size=16)\n",
    "sns.set_context(rc={'axes.titlesize':22, 'axes.labelsize':20});\n",
    "\n"
   ]
  },
  {
   "cell_type": "code",
   "execution_count": 9,
   "metadata": {},
   "outputs": [],
   "source": [
    "# create a usable dataframe for the following analysis\n",
    "repgroup = RepeatedPerformances.groupby(['Measurement','Subject','Condition'], as_index=False)['Performance'].mean()\n",
    "\n",
    "RepeatedDf = pd.DataFrame(columns={'Measurement','Subject','Task','Time','Performance'})\n",
    "tasks = ['Absolute','Absolute','Relative','Relative','Pointing','Pointing']\n",
    "times = ['3sec','Infinite','3sec','Infinite','3sec','Infinite']\n",
    "for i in range(270):\n",
    "    RepeatedDf = RepeatedDf.append({'Subject':repgroup['Subject'][i],'Measurement':repgroup['Measurement'][i],'Task':tasks[repgroup['Condition'][i]],'Time':times[repgroup['Condition'][i]],'Performance':repgroup['Performance'][i]},ignore_index=True)\n",
    "    "
   ]
  },
  {
   "cell_type": "markdown",
   "metadata": {},
   "source": [
    "Using the data of ```RepeatedDf``` we want to calculate a **(three-way) repeated measures ANOVA**. A (three-way) repeated measures ANOVA in general is a statistical test used to determine the effect of three nominal predictor variables (= within-subject factors) on a continuous outcome variable (= dependent variable). \n",
    "\n",
    "\n",
    "\n",
    "- What is the dependent variable and what are the within-subject factors that you have to use for the repeated measures ANOVA?\n",
    "- Formulate the null hypotheses that the repeated measures ANOVA has to test.\n",
    "- Calculate a repeated measures ANOVA using ```statsmodels```' ```AnovaRM```. \n",
    "- Based on the ANOVA table explain which of the null hypotheses can be rejected. What does this outcome tell you?\n",
    "\n",
    "Take a look at the [ANOVARM documentation](http://www.statsmodels.org/dev/generated/statsmodels.stats.anova.AnovaRM.html#statsmodels.stats.anova.AnovaRM) to get a feeling how to use this function."
   ]
  },
  {
   "cell_type": "markdown",
   "metadata": {},
   "source": [
    "### The Variables and the Hypotheses"
   ]
  },
  {
   "cell_type": "markdown",
   "metadata": {},
   "source": [
    "**So, one more time, the dependent variable is the performance or accuracy of participants in accomplishing the tasks. And the predictor or 'within-subject' variables, whatever it means, are the 'Measurement,' the 'Task,' and the 'Time.'**\n",
    "\n"
   ]
  },
  {
   "cell_type": "markdown",
   "metadata": {},
   "source": [
    "$H_01$: There is no meaningful difference between the performance of the subjects in different measurements.\n",
    "\n",
    "$H_02$: There is no meaningful difference between the performance of the subjects in different tasks.\n",
    "\n",
    "$H_03$: There is no meaningful difference between the performance of the subjects in different time conditions."
   ]
  },
  {
   "cell_type": "code",
   "execution_count": 13,
   "metadata": {},
   "outputs": [
    {
     "name": "stdout",
     "output_type": "stream",
     "text": [
      "                       Anova\n",
      "===================================================\n",
      "                      Num DF  Den DF F Value Pr > F\n",
      "---------------------------------------------------\n",
      "Measurement           2.0000 28.0000  2.5727 0.0943\n",
      "Task                  2.0000 28.0000  1.8458 0.1766\n",
      "Time                  1.0000 14.0000 19.4550 0.0006\n",
      "Measurement:Task      4.0000 56.0000  0.5986 0.6652\n",
      "Measurement:Time      2.0000 28.0000  0.0726 0.9301\n",
      "Task:Time             2.0000 28.0000  0.6688 0.5203\n",
      "Measurement:Task:Time 4.0000 56.0000  0.2483 0.9095\n",
      "===================================================\n",
      "\n"
     ]
    }
   ],
   "source": [
    "# calculate a repeated measures ANOVA\n",
    "aovrm = AnovaRM(RepeatedDf, 'Performance', 'Subject', within=['Measurement','Task','Time']).fit()\n",
    "\n",
    "# and print the results\n",
    "print(aovrm)\n"
   ]
  },
  {
   "cell_type": "markdown",
   "metadata": {},
   "source": [
    "### Repeated Measures ANOVA Results"
   ]
  },
  {
   "cell_type": "markdown",
   "metadata": {},
   "source": [
    "**Regarding the p-value for the three independent (predictor) variables, there is no significant differences between the subjects performance with different number of measurements or while doing different tasks. But it seems like under different time conditions, the performance changes significantly. Though, we cannot reject any of our three null hypotheses yet. First we need to check the p-values for the relation between different pairs of predictors and once for all of them.\n",
    "Doing so, we see that there is no meaningful relation between our predictor variables, so now we can reject the first and second null hypotheses.\n",
    "**"
   ]
  },
  {
   "cell_type": "markdown",
   "metadata": {},
   "source": [
    "****"
   ]
  },
  {
   "cell_type": "markdown",
   "metadata": {},
   "source": [
    "## Assignment 4: Spatial coverage of Seahaven [Bonus]"
   ]
  },
  {
   "cell_type": "markdown",
   "metadata": {},
   "source": [
    "To get a better feeling of the spatial coverage of Seahaven, we can create an overview of the houses that the subjects have seen. With a colormap it is easy to display the spatial coverage in an intuitive way.\n",
    "\n",
    "- Open the image ```map5.png``` as ```SeahavenMap``` and read ```Clicks.csv``` into a dataframe ```NumClicks```.\n",
    "- Draw a solid circle for each house. Use the x- and y-coordinates of ```NumClicks``` for the positioning of the circles.\n",
    "- The column \"clicks\" from ```NumClicks``` displays how many subjects had visited the respective house. Use these click-values to calculate each circle's colour:\n",
    "\n",
    "$CircleColor = cmap((click[i]-min(clicks))/(max(clicks)-min(clicks)))$\n",
    "\n",
    "$clicks$: list/array of all click-values from the dataframe ```NumClicks``` <br>\n",
    "$click[i]$: a certain click-value from the dataframe ```NumClicks``` at position $i$"
   ]
  },
  {
   "cell_type": "code",
   "execution_count": 11,
   "metadata": {},
   "outputs": [
    {
     "ename": "NameError",
     "evalue": "name 'SeahavenMap' is not defined",
     "output_type": "error",
     "traceback": [
      "\u001b[0;31m---------------------------------------------------------------------------\u001b[0m",
      "\u001b[0;31mNameError\u001b[0m                                 Traceback (most recent call last)",
      "\u001b[0;32m<ipython-input-11-eb11a7339ebf>\u001b[0m in \u001b[0;36m<module>\u001b[0;34m()\u001b[0m\n\u001b[1;32m      5\u001b[0m \u001b[0;31m# set everything up to display the Seahaven Map\u001b[0m\u001b[0;34m\u001b[0m\u001b[0;34m\u001b[0m\u001b[0m\n\u001b[1;32m      6\u001b[0m \u001b[0mfig\u001b[0m \u001b[0;34m=\u001b[0m \u001b[0mplt\u001b[0m\u001b[0;34m.\u001b[0m\u001b[0mfigure\u001b[0m\u001b[0;34m(\u001b[0m\u001b[0mfigsize\u001b[0m\u001b[0;34m=\u001b[0m\u001b[0;34m(\u001b[0m\u001b[0;36m15\u001b[0m\u001b[0;34m,\u001b[0m\u001b[0;36m15\u001b[0m\u001b[0;34m)\u001b[0m\u001b[0;34m)\u001b[0m\u001b[0;34m\u001b[0m\u001b[0m\n\u001b[0;32m----> 7\u001b[0;31m \u001b[0mSeahavenMap\u001b[0m \u001b[0;34m=\u001b[0m \u001b[0mSeahavenMap\u001b[0m\u001b[0;34m.\u001b[0m\u001b[0mresize\u001b[0m\u001b[0;34m(\u001b[0m\u001b[0;34m(\u001b[0m\u001b[0;36m450\u001b[0m\u001b[0;34m,\u001b[0m\u001b[0;36m500\u001b[0m\u001b[0;34m)\u001b[0m\u001b[0;34m)\u001b[0m\u001b[0;34m\u001b[0m\u001b[0m\n\u001b[0m\u001b[1;32m      8\u001b[0m \u001b[0max\u001b[0m \u001b[0;34m=\u001b[0m \u001b[0mplt\u001b[0m\u001b[0;34m.\u001b[0m\u001b[0msubplot2grid\u001b[0m\u001b[0;34m(\u001b[0m\u001b[0;34m(\u001b[0m\u001b[0;36m10\u001b[0m\u001b[0;34m,\u001b[0m \u001b[0;36m10\u001b[0m\u001b[0;34m)\u001b[0m\u001b[0;34m,\u001b[0m \u001b[0;34m(\u001b[0m\u001b[0;36m0\u001b[0m\u001b[0;34m,\u001b[0m \u001b[0;36m0\u001b[0m\u001b[0;34m)\u001b[0m\u001b[0;34m,\u001b[0m \u001b[0mcolspan\u001b[0m\u001b[0;34m=\u001b[0m\u001b[0;36m9\u001b[0m\u001b[0;34m,\u001b[0m\u001b[0mrowspan\u001b[0m\u001b[0;34m=\u001b[0m\u001b[0;36m10\u001b[0m\u001b[0;34m)\u001b[0m\u001b[0;34m\u001b[0m\u001b[0m\n\u001b[1;32m      9\u001b[0m \u001b[0mplt\u001b[0m\u001b[0;34m.\u001b[0m\u001b[0mimshow\u001b[0m\u001b[0;34m(\u001b[0m\u001b[0mSeahavenMap\u001b[0m\u001b[0;34m,\u001b[0m \u001b[0maspect\u001b[0m \u001b[0;34m=\u001b[0m \u001b[0;34m'equal'\u001b[0m\u001b[0;34m)\u001b[0m\u001b[0;34m\u001b[0m\u001b[0m\n",
      "\u001b[0;31mNameError\u001b[0m: name 'SeahavenMap' is not defined"
     ]
    },
    {
     "data": {
      "text/plain": [
       "<Figure size 1080x1080 with 0 Axes>"
      ]
     },
     "metadata": {},
     "output_type": "display_data"
    }
   ],
   "source": [
    "# open the files and extract the necessary data\n",
    "# TODO\n",
    "\n",
    "\n",
    "# set everything up to display the Seahaven Map\n",
    "fig = plt.figure(figsize=(15,15))\n",
    "SeahavenMap = SeahavenMap.resize((450,500))\n",
    "ax = plt.subplot2grid((10, 10), (0, 0), colspan=9,rowspan=10)\n",
    "plt.imshow(SeahavenMap, aspect = 'equal')\n",
    "\n",
    "# choose a colormap for the circles that display the houses\n",
    "cmap = plt.cm.get_cmap('Reds')\n",
    "\n",
    "# draw the circles and give them the right color (using the given colormap)\n",
    "# TODO\n",
    "\n",
    "\n",
    "# set everything up to display the Colormap / legend for the circle's colors\n",
    "a=np.outer(np.arange(0,1,0.01),np.ones(3))\n",
    "ax2 = plt.subplot2grid((10, 10), (0, 9),rowspan=10)\n",
    "plt.imshow(a,aspect='auto',cmap='Reds',origin=\"lower\")\n",
    "ax2.get_xaxis().set_ticks([])\n",
    "ax2.get_yaxis().set_ticks(np.linspace(0,99,10))\n",
    "ax2.get_yaxis().set_ticklabels(np.linspace((min(clicks)/64)*100,(max(clicks)/64)*100,10,dtype=int))\n",
    "ax2.yaxis.tick_right()\n",
    "ax2.set_ylabel(\"Percentage of Subjects That Have Seen This House\",rotation=270, fontsize=15, labelpad=20)\n",
    "ax2.yaxis.set_label_position(\"right\")\n",
    "plt.show()"
   ]
  }
 ],
 "metadata": {
  "kernelspec": {
   "display_name": "Python 3",
   "language": "python",
   "name": "python3"
  },
  "language_info": {
   "codemirror_mode": {
    "name": "ipython",
    "version": 3
   },
   "file_extension": ".py",
   "mimetype": "text/x-python",
   "name": "python",
   "nbconvert_exporter": "python",
   "pygments_lexer": "ipython3",
   "version": "3.6.3"
  }
 },
 "nbformat": 4,
 "nbformat_minor": 2
}
